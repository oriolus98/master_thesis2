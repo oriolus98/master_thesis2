{
 "cells": [
  {
   "attachments": {},
   "cell_type": "markdown",
   "metadata": {},
   "source": [
    "## 2.0 Time series clustering\n",
    "\n",
    "In this notebook we try to cluster the hole dataset, using the model trained in the previous one"
   ]
  },
  {
   "cell_type": "code",
   "execution_count": 1,
   "metadata": {},
   "outputs": [],
   "source": [
    "import pandas as pd\n",
    "import numpy as np\n",
    "import os\n",
    "import datetime\n",
    "from tensorflow.keras import layers, Model\n",
    "import tensorflow as tf\n",
    "from tslearn.clustering import TimeSeriesKMeans\n",
    "from tslearn.barycenters import dtw_barycenter_averaging as dtw_avg\n",
    "import geopandas as gpd\n",
    "import matplotlib.pyplot as plt\n",
    "%matplotlib inline   "
   ]
  },
  {
   "cell_type": "code",
   "execution_count": 2,
   "metadata": {},
   "outputs": [
    {
     "name": "stdout",
     "output_type": "stream",
     "text": [
      "The history saving thread hit an unexpected error (OperationalError('database or disk is full')).History will not be written to the database.\n"
     ]
    }
   ],
   "source": [
    "df = np.empty((len(os.listdir('../test_data/new_data/')),385,4))\n",
    "pixels = []\n",
    "i = 0\n",
    "\n",
    "\n",
    "\n",
    "for file in os.listdir('../test_data/new_data/'):\n",
    "    df[i,:,:] = pd.read_csv(os.path.join('../test_data/new_data/', file), header=None)\n",
    "    i += 1\n",
    "    pixels.append(file)\n",
    "    \n",
    "df = df[:,1:,:]"
   ]
  },
  {
   "cell_type": "code",
   "execution_count": 4,
   "metadata": {},
   "outputs": [
    {
     "name": "stdout",
     "output_type": "stream",
     "text": [
      "WARNING:tensorflow:No training configuration found in save file, so the model was *not* compiled. Compile it manually.\n",
      "409/409 [==============================] - 1s 3ms/step\n"
     ]
    }
   ],
   "source": [
    "encoder = tf.keras.models.load_model('./my_encoder')\n",
    "\n",
    "data = encoder.predict(df)\n",
    "data = data.reshape((len(os.listdir('../test_data/new_data/')), 384))\n",
    "\n",
    "data = pd.DataFrame(data, index = pixels)"
   ]
  },
  {
   "cell_type": "code",
   "execution_count": 5,
   "metadata": {},
   "outputs": [],
   "source": [
    "model = TimeSeriesKMeans(n_clusters=7, metric=\"dtw\", max_iter=100)\n",
    "model.fit(data)"
   ]
  },
  {
   "cell_type": "code",
   "execution_count": null,
   "metadata": {},
   "outputs": [],
   "source": [
    "results = pd.DataFrame()\n",
    "results['group'] = model.predict(data)\n",
    "\n",
    "coord_x = []\n",
    "coord_y = []\n",
    "\n",
    "for i in range(len(pixels)):\n",
    "    pixels[i] = pixels[i].replace('.csv', '')\n",
    "    coord_x.append(float(pixels[i].split(',')[1]))\n",
    "    coord_y.append(float(pixels[i].split(',')[0]))\n",
    "\n",
    "results['coord_x'] = coord_x\n",
    "results['coord_y'] = coord_y"
   ]
  },
  {
   "cell_type": "code",
   "execution_count": null,
   "metadata": {},
   "outputs": [],
   "source": [
    "# From GeoPandas, our world map data\n",
    "worldmap = gpd.read_file(gpd.datasets.get_path('naturalearth_lowres'))\n",
    "\n",
    "# Creating axes and plotting world map\n",
    "fig, ax = plt.subplots(figsize=(12, 6))\n",
    "worldmap.plot(color=\"lightgrey\", ax=ax)\n",
    "\n",
    "for group, color in zip(results['group'].unique(), ['blue', 'red', 'green', 'orange', 'purple', 'yellow', 'brown']):\n",
    "    plt.scatter(x = results.coord_x[results['group'] == group], y = results.coord_y[results['group'] == group], color=color, label=f\"Group {group}\")\n",
    "\n",
    "# Creating axis limits and title\n",
    "plt.xlim([-180, 180])\n",
    "plt.ylim([-90, 90])\n",
    "\n",
    "plt.title('Pixels classification on climate type')\n",
    "plt.xlabel(\"Longitude\")\n",
    "plt.ylabel(\"Latitude\")\n",
    "plt.legend()\n",
    "plt.show()"
   ]
  }
 ],
 "metadata": {
  "kernelspec": {
   "display_name": "base",
   "language": "python",
   "name": "python3"
  },
  "language_info": {
   "codemirror_mode": {
    "name": "ipython",
    "version": 3
   },
   "file_extension": ".py",
   "mimetype": "text/x-python",
   "name": "python",
   "nbconvert_exporter": "python",
   "pygments_lexer": "ipython3",
   "version": "3.9.13"
  },
  "orig_nbformat": 4
 },
 "nbformat": 4,
 "nbformat_minor": 2
}
